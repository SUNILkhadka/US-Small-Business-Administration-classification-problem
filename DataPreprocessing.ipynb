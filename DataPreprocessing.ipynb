{
 "cells": [
  {
   "cell_type": "code",
   "execution_count": 1,
   "id": "03f3542a-c375-46a6-9f76-25374e0e9b2c",
   "metadata": {},
   "outputs": [],
   "source": [
    "import pandas as pd \n",
    "import numpy as np\n",
    "import matplotlib.pyplot as plt\n",
    "%matplotlib inline\n",
    "import seaborn as sns"
   ]
  },
  {
   "cell_type": "code",
   "execution_count": 2,
   "id": "c4d5f6a8-5567-4ca8-a0d7-a55b1664f21c",
   "metadata": {},
   "outputs": [],
   "source": [
    "pd.set_option('display.max_column',None)"
   ]
  },
  {
   "cell_type": "markdown",
   "id": "b9b10e7d-af67-4063-a7df-221c1311cb3c",
   "metadata": {},
   "source": [
    "# Exploratory Data Analysis (EDA)\n",
    "## Data Cleaning"
   ]
  },
  {
   "cell_type": "code",
   "execution_count": 3,
   "id": "ffe7180f-5a6e-4dc3-aa4d-63a928d438b9",
   "metadata": {},
   "outputs": [],
   "source": [
    "data = pd.read_csv('data/SBAnational.csv',low_memory=False)"
   ]
  },
  {
   "cell_type": "code",
   "execution_count": 4,
   "id": "05f2cd81-55e6-4b56-8cb3-9c27125d8ee5",
   "metadata": {},
   "outputs": [
    {
     "data": {
      "text/html": [
       "<div>\n",
       "<style scoped>\n",
       "    .dataframe tbody tr th:only-of-type {\n",
       "        vertical-align: middle;\n",
       "    }\n",
       "\n",
       "    .dataframe tbody tr th {\n",
       "        vertical-align: top;\n",
       "    }\n",
       "\n",
       "    .dataframe thead th {\n",
       "        text-align: right;\n",
       "    }\n",
       "</style>\n",
       "<table border=\"1\" class=\"dataframe\">\n",
       "  <thead>\n",
       "    <tr style=\"text-align: right;\">\n",
       "      <th></th>\n",
       "      <th>LoanNr_ChkDgt</th>\n",
       "      <th>Name</th>\n",
       "      <th>City</th>\n",
       "      <th>State</th>\n",
       "      <th>Zip</th>\n",
       "      <th>Bank</th>\n",
       "      <th>BankState</th>\n",
       "      <th>NAICS</th>\n",
       "      <th>ApprovalDate</th>\n",
       "      <th>ApprovalFY</th>\n",
       "      <th>Term</th>\n",
       "      <th>NoEmp</th>\n",
       "      <th>NewExist</th>\n",
       "      <th>CreateJob</th>\n",
       "      <th>RetainedJob</th>\n",
       "      <th>FranchiseCode</th>\n",
       "      <th>UrbanRural</th>\n",
       "      <th>RevLineCr</th>\n",
       "      <th>LowDoc</th>\n",
       "      <th>ChgOffDate</th>\n",
       "      <th>DisbursementDate</th>\n",
       "      <th>DisbursementGross</th>\n",
       "      <th>BalanceGross</th>\n",
       "      <th>MIS_Status</th>\n",
       "      <th>ChgOffPrinGr</th>\n",
       "      <th>GrAppv</th>\n",
       "      <th>SBA_Appv</th>\n",
       "    </tr>\n",
       "  </thead>\n",
       "  <tbody>\n",
       "    <tr>\n",
       "      <th>684864</th>\n",
       "      <td>7077684000</td>\n",
       "      <td>JEAN LUEDTKE</td>\n",
       "      <td>BEULAH</td>\n",
       "      <td>MI</td>\n",
       "      <td>49617</td>\n",
       "      <td>CENTRAL STATE BANK</td>\n",
       "      <td>MI</td>\n",
       "      <td>541211</td>\n",
       "      <td>31-Dec-03</td>\n",
       "      <td>2004</td>\n",
       "      <td>70</td>\n",
       "      <td>2</td>\n",
       "      <td>1.0</td>\n",
       "      <td>0</td>\n",
       "      <td>2</td>\n",
       "      <td>1</td>\n",
       "      <td>2</td>\n",
       "      <td>Y</td>\n",
       "      <td>N</td>\n",
       "      <td>NaN</td>\n",
       "      <td>29-Feb-04</td>\n",
       "      <td>$10,000.00</td>\n",
       "      <td>$0.00</td>\n",
       "      <td>P I F</td>\n",
       "      <td>$0.00</td>\n",
       "      <td>$10,000.00</td>\n",
       "      <td>$5,000.00</td>\n",
       "    </tr>\n",
       "    <tr>\n",
       "      <th>651108</th>\n",
       "      <td>6533963005</td>\n",
       "      <td>THE LEARNING FAIR, INC.</td>\n",
       "      <td>MANDAN</td>\n",
       "      <td>ND</td>\n",
       "      <td>58554</td>\n",
       "      <td>WELLS FARGO BANK NATL ASSOC</td>\n",
       "      <td>ND</td>\n",
       "      <td>453210</td>\n",
       "      <td>6-Apr-94</td>\n",
       "      <td>1994</td>\n",
       "      <td>55</td>\n",
       "      <td>5</td>\n",
       "      <td>1.0</td>\n",
       "      <td>0</td>\n",
       "      <td>0</td>\n",
       "      <td>1</td>\n",
       "      <td>0</td>\n",
       "      <td>N</td>\n",
       "      <td>N</td>\n",
       "      <td>25-Feb-99</td>\n",
       "      <td>30-Apr-94</td>\n",
       "      <td>$46,000.00</td>\n",
       "      <td>$0.00</td>\n",
       "      <td>CHGOFF</td>\n",
       "      <td>$34,997.00</td>\n",
       "      <td>$46,000.00</td>\n",
       "      <td>$41,400.00</td>\n",
       "    </tr>\n",
       "    <tr>\n",
       "      <th>558816</th>\n",
       "      <td>5494093006</td>\n",
       "      <td>ADHESA PLATE MFG. CO., INC.</td>\n",
       "      <td>SEATTLE</td>\n",
       "      <td>WA</td>\n",
       "      <td>98108</td>\n",
       "      <td>WELLS FARGO BANK NATL ASSOC</td>\n",
       "      <td>SD</td>\n",
       "      <td>0</td>\n",
       "      <td>29-Jan-93</td>\n",
       "      <td>1993</td>\n",
       "      <td>302</td>\n",
       "      <td>17</td>\n",
       "      <td>1.0</td>\n",
       "      <td>0</td>\n",
       "      <td>0</td>\n",
       "      <td>1</td>\n",
       "      <td>0</td>\n",
       "      <td>N</td>\n",
       "      <td>N</td>\n",
       "      <td>NaN</td>\n",
       "      <td>31-Jul-93</td>\n",
       "      <td>$570,000.00</td>\n",
       "      <td>$0.00</td>\n",
       "      <td>P I F</td>\n",
       "      <td>$0.00</td>\n",
       "      <td>$570,000.00</td>\n",
       "      <td>$456,000.00</td>\n",
       "    </tr>\n",
       "    <tr>\n",
       "      <th>472212</th>\n",
       "      <td>4555873004</td>\n",
       "      <td>TROJAN GLOVE</td>\n",
       "      <td>FRESNO</td>\n",
       "      <td>CA</td>\n",
       "      <td>93727</td>\n",
       "      <td>WESTAMERICA BANK</td>\n",
       "      <td>CA</td>\n",
       "      <td>0</td>\n",
       "      <td>16-Aug-91</td>\n",
       "      <td>1991</td>\n",
       "      <td>96</td>\n",
       "      <td>45</td>\n",
       "      <td>1.0</td>\n",
       "      <td>0</td>\n",
       "      <td>0</td>\n",
       "      <td>1</td>\n",
       "      <td>0</td>\n",
       "      <td>N</td>\n",
       "      <td>N</td>\n",
       "      <td>NaN</td>\n",
       "      <td>31-Oct-91</td>\n",
       "      <td>$305,000.00</td>\n",
       "      <td>$0.00</td>\n",
       "      <td>P I F</td>\n",
       "      <td>$0.00</td>\n",
       "      <td>$305,000.00</td>\n",
       "      <td>$259,250.00</td>\n",
       "    </tr>\n",
       "    <tr>\n",
       "      <th>596902</th>\n",
       "      <td>5912403007</td>\n",
       "      <td>CONRAD-JARVIS CORPORATION</td>\n",
       "      <td>PAWTUCKET</td>\n",
       "      <td>RI</td>\n",
       "      <td>2860</td>\n",
       "      <td>BANK OF AMERICA NATL ASSOC</td>\n",
       "      <td>NC</td>\n",
       "      <td>313221</td>\n",
       "      <td>3-Sep-93</td>\n",
       "      <td>1993</td>\n",
       "      <td>120</td>\n",
       "      <td>180</td>\n",
       "      <td>1.0</td>\n",
       "      <td>0</td>\n",
       "      <td>0</td>\n",
       "      <td>1</td>\n",
       "      <td>0</td>\n",
       "      <td>N</td>\n",
       "      <td>N</td>\n",
       "      <td>NaN</td>\n",
       "      <td>31-Jan-94</td>\n",
       "      <td>$682,000.00</td>\n",
       "      <td>$0.00</td>\n",
       "      <td>P I F</td>\n",
       "      <td>$0.00</td>\n",
       "      <td>$682,000.00</td>\n",
       "      <td>$579,700.00</td>\n",
       "    </tr>\n",
       "  </tbody>\n",
       "</table>\n",
       "</div>"
      ],
      "text/plain": [
       "        LoanNr_ChkDgt                         Name       City State    Zip  \\\n",
       "684864     7077684000                 JEAN LUEDTKE     BEULAH    MI  49617   \n",
       "651108     6533963005      THE LEARNING FAIR, INC.     MANDAN    ND  58554   \n",
       "558816     5494093006  ADHESA PLATE MFG. CO., INC.    SEATTLE    WA  98108   \n",
       "472212     4555873004                 TROJAN GLOVE     FRESNO    CA  93727   \n",
       "596902     5912403007    CONRAD-JARVIS CORPORATION  PAWTUCKET    RI   2860   \n",
       "\n",
       "                               Bank BankState   NAICS ApprovalDate ApprovalFY  \\\n",
       "684864           CENTRAL STATE BANK        MI  541211    31-Dec-03       2004   \n",
       "651108  WELLS FARGO BANK NATL ASSOC        ND  453210     6-Apr-94       1994   \n",
       "558816  WELLS FARGO BANK NATL ASSOC        SD       0    29-Jan-93       1993   \n",
       "472212             WESTAMERICA BANK        CA       0    16-Aug-91       1991   \n",
       "596902   BANK OF AMERICA NATL ASSOC        NC  313221     3-Sep-93       1993   \n",
       "\n",
       "        Term  NoEmp  NewExist  CreateJob  RetainedJob  FranchiseCode  \\\n",
       "684864    70      2       1.0          0            2              1   \n",
       "651108    55      5       1.0          0            0              1   \n",
       "558816   302     17       1.0          0            0              1   \n",
       "472212    96     45       1.0          0            0              1   \n",
       "596902   120    180       1.0          0            0              1   \n",
       "\n",
       "        UrbanRural RevLineCr LowDoc ChgOffDate DisbursementDate  \\\n",
       "684864           2         Y      N        NaN        29-Feb-04   \n",
       "651108           0         N      N  25-Feb-99        30-Apr-94   \n",
       "558816           0         N      N        NaN        31-Jul-93   \n",
       "472212           0         N      N        NaN        31-Oct-91   \n",
       "596902           0         N      N        NaN        31-Jan-94   \n",
       "\n",
       "       DisbursementGross BalanceGross MIS_Status ChgOffPrinGr        GrAppv  \\\n",
       "684864       $10,000.00        $0.00       P I F       $0.00    $10,000.00    \n",
       "651108       $46,000.00        $0.00      CHGOFF  $34,997.00    $46,000.00    \n",
       "558816      $570,000.00        $0.00       P I F       $0.00   $570,000.00    \n",
       "472212      $305,000.00        $0.00       P I F       $0.00   $305,000.00    \n",
       "596902      $682,000.00        $0.00       P I F       $0.00   $682,000.00    \n",
       "\n",
       "            SBA_Appv  \n",
       "684864    $5,000.00   \n",
       "651108   $41,400.00   \n",
       "558816  $456,000.00   \n",
       "472212  $259,250.00   \n",
       "596902  $579,700.00   "
      ]
     },
     "execution_count": 4,
     "metadata": {},
     "output_type": "execute_result"
    }
   ],
   "source": [
    "data.sample(5)"
   ]
  },
  {
   "cell_type": "code",
   "execution_count": 5,
   "id": "3f8f6de3-11e8-4174-b0d3-4073af7ac7e1",
   "metadata": {},
   "outputs": [
    {
     "data": {
      "text/plain": [
       "LoanNr_ChkDgt             0\n",
       "Name                     14\n",
       "City                     30\n",
       "State                    14\n",
       "Zip                       0\n",
       "Bank                   1559\n",
       "BankState              1566\n",
       "NAICS                     0\n",
       "ApprovalDate              0\n",
       "ApprovalFY                0\n",
       "Term                      0\n",
       "NoEmp                     0\n",
       "NewExist                136\n",
       "CreateJob                 0\n",
       "RetainedJob               0\n",
       "FranchiseCode             0\n",
       "UrbanRural                0\n",
       "RevLineCr              4528\n",
       "LowDoc                 2582\n",
       "ChgOffDate           736465\n",
       "DisbursementDate       2368\n",
       "DisbursementGross         0\n",
       "BalanceGross              0\n",
       "MIS_Status             1997\n",
       "ChgOffPrinGr              0\n",
       "GrAppv                    0\n",
       "SBA_Appv                  0\n",
       "dtype: int64"
      ]
     },
     "execution_count": 5,
     "metadata": {},
     "output_type": "execute_result"
    }
   ],
   "source": [
    "data.isna().sum()"
   ]
  },
  {
   "cell_type": "code",
   "execution_count": 6,
   "id": "c7b041c8-284c-44d4-8411-af68f4b3e686",
   "metadata": {},
   "outputs": [
    {
     "data": {
      "text/plain": [
       "LoanNr_ChkDgt        899164\n",
       "Name                 779583\n",
       "City                  32581\n",
       "State                    51\n",
       "Zip                   33611\n",
       "Bank                   5802\n",
       "BankState                56\n",
       "NAICS                  1312\n",
       "ApprovalDate           9859\n",
       "ApprovalFY               52\n",
       "Term                    412\n",
       "NoEmp                   599\n",
       "NewExist                  3\n",
       "CreateJob               246\n",
       "RetainedJob             358\n",
       "FranchiseCode          2768\n",
       "UrbanRural                3\n",
       "RevLineCr                18\n",
       "LowDoc                    8\n",
       "ChgOffDate             6448\n",
       "DisbursementDate       8472\n",
       "DisbursementGross    118859\n",
       "BalanceGross             15\n",
       "MIS_Status                2\n",
       "ChgOffPrinGr          83165\n",
       "GrAppv                22128\n",
       "SBA_Appv              38326\n",
       "dtype: int64"
      ]
     },
     "execution_count": 6,
     "metadata": {},
     "output_type": "execute_result"
    }
   ],
   "source": [
    "data.nunique()"
   ]
  },
  {
   "cell_type": "code",
   "execution_count": 7,
   "id": "5cb732cd-6993-43c8-84a4-2c6b0a2da6e1",
   "metadata": {},
   "outputs": [
    {
     "data": {
      "text/plain": [
       "Index(['LoanNr_ChkDgt', 'Name', 'City', 'State', 'Zip', 'Bank', 'BankState',\n",
       "       'NAICS', 'ApprovalDate', 'ApprovalFY', 'Term', 'NoEmp', 'NewExist',\n",
       "       'CreateJob', 'RetainedJob', 'FranchiseCode', 'UrbanRural', 'RevLineCr',\n",
       "       'LowDoc', 'ChgOffDate', 'DisbursementDate', 'DisbursementGross',\n",
       "       'BalanceGross', 'MIS_Status', 'ChgOffPrinGr', 'GrAppv', 'SBA_Appv'],\n",
       "      dtype='object')"
      ]
     },
     "execution_count": 7,
     "metadata": {},
     "output_type": "execute_result"
    }
   ],
   "source": [
    "data.columns"
   ]
  },
  {
   "cell_type": "code",
   "execution_count": null,
   "id": "0effc09a-7520-4b55-9c69-17981c8713de",
   "metadata": {},
   "outputs": [],
   "source": [
    "# Droping the unnecessary columns\n",
    "data.drop(['LoanNr_ChkDgt','Name','City','Zip','Bank',])"
   ]
  },
  {
   "cell_type": "code",
   "execution_count": 12,
   "id": "c913959d-0855-4df2-9863-32d43877e44b",
   "metadata": {},
   "outputs": [
    {
     "data": {
      "text/plain": [
       "0         1000014003\n",
       "1         1000024006\n",
       "2         1000034009\n",
       "3         1000044001\n",
       "4         1000054004\n",
       "             ...    \n",
       "899159    9995573004\n",
       "899160    9995603000\n",
       "899161    9995613003\n",
       "899162    9995973006\n",
       "899163    9996003010\n",
       "Name: LoanNr_ChkDgt, Length: 899164, dtype: int64"
      ]
     },
     "execution_count": 12,
     "metadata": {},
     "output_type": "execute_result"
    }
   ],
   "source": [
    "data.LoanNr_ChkDgt"
   ]
  },
  {
   "cell_type": "code",
   "execution_count": 15,
   "id": "c5341c72-607d-426e-ab4d-a1ff775f1995",
   "metadata": {},
   "outputs": [
    {
     "data": {
      "text/plain": [
       "0.5"
      ]
     },
     "execution_count": 15,
     "metadata": {},
     "output_type": "execute_result"
    }
   ],
   "source": [
    "np.std([True,False])"
   ]
  },
  {
   "cell_type": "code",
   "execution_count": 18,
   "id": "ecd2f69b-8dbb-4a03-84ea-1ce5d7295c88",
   "metadata": {},
   "outputs": [
    {
     "data": {
      "text/plain": [
       "4"
      ]
     },
     "execution_count": 18,
     "metadata": {},
     "output_type": "execute_result"
    }
   ],
   "source": [
    "ls = np.array([2,3,5,8,9,6,7])\n",
    "ls.argmax()"
   ]
  },
  {
   "cell_type": "code",
   "execution_count": null,
   "id": "70e47589-db0a-485c-b42f-2b586e7bdcdf",
   "metadata": {},
   "outputs": [],
   "source": [
    "data"
   ]
  },
  {
   "cell_type": "code",
   "execution_count": null,
   "id": "c00b5cde-f105-4f11-97e3-bc8a8327ffb4",
   "metadata": {},
   "outputs": [],
   "source": []
  }
 ],
 "metadata": {
  "kernelspec": {
   "display_name": "Python 3 (ipykernel)",
   "language": "python",
   "name": "python3"
  },
  "language_info": {
   "codemirror_mode": {
    "name": "ipython",
    "version": 3
   },
   "file_extension": ".py",
   "mimetype": "text/x-python",
   "name": "python",
   "nbconvert_exporter": "python",
   "pygments_lexer": "ipython3",
   "version": "3.9.7"
  }
 },
 "nbformat": 4,
 "nbformat_minor": 5
}
