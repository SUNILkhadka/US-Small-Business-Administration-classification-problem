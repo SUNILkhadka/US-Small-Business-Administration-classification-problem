{
 "cells": [
  {
   "cell_type": "code",
   "execution_count": 1,
   "id": "03f3542a-c375-46a6-9f76-25374e0e9b2c",
   "metadata": {},
   "outputs": [],
   "source": [
    "import pandas as pd \n",
    "import numpy as np\n",
    "import matplotlib.pyplot as plt\n",
    "%matplotlib inline\n",
    "import seaborn as sns"
   ]
  },
  {
   "cell_type": "code",
   "execution_count": 9,
   "id": "c4d5f6a8-5567-4ca8-a0d7-a55b1664f21c",
   "metadata": {},
   "outputs": [],
   "source": [
    "pd.set_option('display.max_column',None)"
   ]
  },
  {
   "cell_type": "markdown",
   "id": "b9b10e7d-af67-4063-a7df-221c1311cb3c",
   "metadata": {},
   "source": [
    "# Exploratory Data Analysis (EDA)\n",
    "## Data Cleaning"
   ]
  },
  {
   "cell_type": "code",
   "execution_count": 6,
   "id": "ffe7180f-5a6e-4dc3-aa4d-63a928d438b9",
   "metadata": {},
   "outputs": [],
   "source": [
    "data = pd.read_csv('data/SBAnational.csv',low_memory=False)"
   ]
  },
  {
   "cell_type": "code",
   "execution_count": 11,
   "id": "05f2cd81-55e6-4b56-8cb3-9c27125d8ee5",
   "metadata": {},
   "outputs": [
    {
     "data": {
      "text/html": [
       "<div>\n",
       "<style scoped>\n",
       "    .dataframe tbody tr th:only-of-type {\n",
       "        vertical-align: middle;\n",
       "    }\n",
       "\n",
       "    .dataframe tbody tr th {\n",
       "        vertical-align: top;\n",
       "    }\n",
       "\n",
       "    .dataframe thead th {\n",
       "        text-align: right;\n",
       "    }\n",
       "</style>\n",
       "<table border=\"1\" class=\"dataframe\">\n",
       "  <thead>\n",
       "    <tr style=\"text-align: right;\">\n",
       "      <th></th>\n",
       "      <th>LoanNr_ChkDgt</th>\n",
       "      <th>Name</th>\n",
       "      <th>City</th>\n",
       "      <th>State</th>\n",
       "      <th>Zip</th>\n",
       "      <th>Bank</th>\n",
       "      <th>BankState</th>\n",
       "      <th>NAICS</th>\n",
       "      <th>ApprovalDate</th>\n",
       "      <th>ApprovalFY</th>\n",
       "      <th>Term</th>\n",
       "      <th>NoEmp</th>\n",
       "      <th>NewExist</th>\n",
       "      <th>CreateJob</th>\n",
       "      <th>RetainedJob</th>\n",
       "      <th>FranchiseCode</th>\n",
       "      <th>UrbanRural</th>\n",
       "      <th>RevLineCr</th>\n",
       "      <th>LowDoc</th>\n",
       "      <th>ChgOffDate</th>\n",
       "      <th>DisbursementDate</th>\n",
       "      <th>DisbursementGross</th>\n",
       "      <th>BalanceGross</th>\n",
       "      <th>MIS_Status</th>\n",
       "      <th>ChgOffPrinGr</th>\n",
       "      <th>GrAppv</th>\n",
       "      <th>SBA_Appv</th>\n",
       "    </tr>\n",
       "  </thead>\n",
       "  <tbody>\n",
       "    <tr>\n",
       "      <th>634463</th>\n",
       "      <td>6306344003</td>\n",
       "      <td>FLEET IMPORTS LLC</td>\n",
       "      <td>PORTSMOUTH</td>\n",
       "      <td>VA</td>\n",
       "      <td>23701</td>\n",
       "      <td>BUSINESS LOAN CENTER, LLC</td>\n",
       "      <td>SC</td>\n",
       "      <td>423320</td>\n",
       "      <td>9-May-03</td>\n",
       "      <td>2003</td>\n",
       "      <td>276</td>\n",
       "      <td>4</td>\n",
       "      <td>1.0</td>\n",
       "      <td>1</td>\n",
       "      <td>5</td>\n",
       "      <td>1</td>\n",
       "      <td>1</td>\n",
       "      <td>0</td>\n",
       "      <td>N</td>\n",
       "      <td>NaN</td>\n",
       "      <td>31-May-03</td>\n",
       "      <td>$750,000.00</td>\n",
       "      <td>$0.00</td>\n",
       "      <td>P I F</td>\n",
       "      <td>$0.00</td>\n",
       "      <td>$750,000.00</td>\n",
       "      <td>$562,500.00</td>\n",
       "    </tr>\n",
       "    <tr>\n",
       "      <th>622518</th>\n",
       "      <td>6183224001</td>\n",
       "      <td>BRITISH PRIVATE PREP SCHOOL IN</td>\n",
       "      <td>KATY</td>\n",
       "      <td>TX</td>\n",
       "      <td>77450</td>\n",
       "      <td>BANK OF AMERICA NATL ASSOC</td>\n",
       "      <td>NC</td>\n",
       "      <td>611699</td>\n",
       "      <td>19-Mar-03</td>\n",
       "      <td>2003</td>\n",
       "      <td>84</td>\n",
       "      <td>20</td>\n",
       "      <td>1.0</td>\n",
       "      <td>17</td>\n",
       "      <td>37</td>\n",
       "      <td>1</td>\n",
       "      <td>1</td>\n",
       "      <td>Y</td>\n",
       "      <td>N</td>\n",
       "      <td>NaN</td>\n",
       "      <td>31-Mar-06</td>\n",
       "      <td>$20,000.00</td>\n",
       "      <td>$0.00</td>\n",
       "      <td>P I F</td>\n",
       "      <td>$0.00</td>\n",
       "      <td>$20,000.00</td>\n",
       "      <td>$10,000.00</td>\n",
       "    </tr>\n",
       "    <tr>\n",
       "      <th>277816</th>\n",
       "      <td>2928845003</td>\n",
       "      <td>Artista Records Inc.</td>\n",
       "      <td>PASADENA</td>\n",
       "      <td>CA</td>\n",
       "      <td>91104</td>\n",
       "      <td>JPMORGAN CHASE BANK NATL ASSOC</td>\n",
       "      <td>NV</td>\n",
       "      <td>512210</td>\n",
       "      <td>29-Jan-08</td>\n",
       "      <td>2008</td>\n",
       "      <td>84</td>\n",
       "      <td>4</td>\n",
       "      <td>1.0</td>\n",
       "      <td>3</td>\n",
       "      <td>7</td>\n",
       "      <td>0</td>\n",
       "      <td>1</td>\n",
       "      <td>Y</td>\n",
       "      <td>N</td>\n",
       "      <td>NaN</td>\n",
       "      <td>31-Jan-08</td>\n",
       "      <td>$99,250.00</td>\n",
       "      <td>$0.00</td>\n",
       "      <td>P I F</td>\n",
       "      <td>$0.00</td>\n",
       "      <td>$50,000.00</td>\n",
       "      <td>$25,000.00</td>\n",
       "    </tr>\n",
       "    <tr>\n",
       "      <th>636403</th>\n",
       "      <td>6327714006</td>\n",
       "      <td>GENEVA SUNTAN</td>\n",
       "      <td>GENEVA</td>\n",
       "      <td>IL</td>\n",
       "      <td>60134</td>\n",
       "      <td>COMERICA BANK</td>\n",
       "      <td>TX</td>\n",
       "      <td>812199</td>\n",
       "      <td>16-May-03</td>\n",
       "      <td>2003</td>\n",
       "      <td>95</td>\n",
       "      <td>2</td>\n",
       "      <td>2.0</td>\n",
       "      <td>5</td>\n",
       "      <td>2</td>\n",
       "      <td>1</td>\n",
       "      <td>1</td>\n",
       "      <td>0</td>\n",
       "      <td>N</td>\n",
       "      <td>29-Sep-10</td>\n",
       "      <td>30-Jun-03</td>\n",
       "      <td>$205,000.00</td>\n",
       "      <td>$0.00</td>\n",
       "      <td>CHGOFF</td>\n",
       "      <td>$194,483.00</td>\n",
       "      <td>$205,000.00</td>\n",
       "      <td>$153,750.00</td>\n",
       "    </tr>\n",
       "    <tr>\n",
       "      <th>682676</th>\n",
       "      <td>7046953010</td>\n",
       "      <td>NATURE'S TOUCH</td>\n",
       "      <td>LIVERPOOL</td>\n",
       "      <td>NY</td>\n",
       "      <td>13090</td>\n",
       "      <td>MANUFACTURERS &amp; TRADERS TR CO</td>\n",
       "      <td>NY</td>\n",
       "      <td>0</td>\n",
       "      <td>6-Jun-94</td>\n",
       "      <td>1994</td>\n",
       "      <td>84</td>\n",
       "      <td>5</td>\n",
       "      <td>2.0</td>\n",
       "      <td>0</td>\n",
       "      <td>0</td>\n",
       "      <td>1</td>\n",
       "      <td>0</td>\n",
       "      <td>N</td>\n",
       "      <td>N</td>\n",
       "      <td>NaN</td>\n",
       "      <td>31-Jul-94</td>\n",
       "      <td>$150,000.00</td>\n",
       "      <td>$0.00</td>\n",
       "      <td>P I F</td>\n",
       "      <td>$0.00</td>\n",
       "      <td>$150,000.00</td>\n",
       "      <td>$135,000.00</td>\n",
       "    </tr>\n",
       "  </tbody>\n",
       "</table>\n",
       "</div>"
      ],
      "text/plain": [
       "        LoanNr_ChkDgt                            Name        City State  \\\n",
       "634463     6306344003               FLEET IMPORTS LLC  PORTSMOUTH    VA   \n",
       "622518     6183224001  BRITISH PRIVATE PREP SCHOOL IN        KATY    TX   \n",
       "277816     2928845003            Artista Records Inc.    PASADENA    CA   \n",
       "636403     6327714006                   GENEVA SUNTAN      GENEVA    IL   \n",
       "682676     7046953010                  NATURE'S TOUCH   LIVERPOOL    NY   \n",
       "\n",
       "          Zip                            Bank BankState   NAICS ApprovalDate  \\\n",
       "634463  23701       BUSINESS LOAN CENTER, LLC        SC  423320     9-May-03   \n",
       "622518  77450      BANK OF AMERICA NATL ASSOC        NC  611699    19-Mar-03   \n",
       "277816  91104  JPMORGAN CHASE BANK NATL ASSOC        NV  512210    29-Jan-08   \n",
       "636403  60134                   COMERICA BANK        TX  812199    16-May-03   \n",
       "682676  13090   MANUFACTURERS & TRADERS TR CO        NY       0     6-Jun-94   \n",
       "\n",
       "       ApprovalFY  Term  NoEmp  NewExist  CreateJob  RetainedJob  \\\n",
       "634463       2003   276      4       1.0          1            5   \n",
       "622518       2003    84     20       1.0         17           37   \n",
       "277816       2008    84      4       1.0          3            7   \n",
       "636403       2003    95      2       2.0          5            2   \n",
       "682676       1994    84      5       2.0          0            0   \n",
       "\n",
       "        FranchiseCode  UrbanRural RevLineCr LowDoc ChgOffDate  \\\n",
       "634463              1           1         0      N        NaN   \n",
       "622518              1           1         Y      N        NaN   \n",
       "277816              0           1         Y      N        NaN   \n",
       "636403              1           1         0      N  29-Sep-10   \n",
       "682676              1           0         N      N        NaN   \n",
       "\n",
       "       DisbursementDate DisbursementGross BalanceGross MIS_Status  \\\n",
       "634463        31-May-03      $750,000.00        $0.00       P I F   \n",
       "622518        31-Mar-06       $20,000.00        $0.00       P I F   \n",
       "277816        31-Jan-08       $99,250.00        $0.00       P I F   \n",
       "636403        30-Jun-03      $205,000.00        $0.00      CHGOFF   \n",
       "682676        31-Jul-94      $150,000.00        $0.00       P I F   \n",
       "\n",
       "        ChgOffPrinGr        GrAppv      SBA_Appv  \n",
       "634463        $0.00   $750,000.00   $562,500.00   \n",
       "622518        $0.00    $20,000.00    $10,000.00   \n",
       "277816        $0.00    $50,000.00    $25,000.00   \n",
       "636403  $194,483.00   $205,000.00   $153,750.00   \n",
       "682676        $0.00   $150,000.00   $135,000.00   "
      ]
     },
     "execution_count": 11,
     "metadata": {},
     "output_type": "execute_result"
    }
   ],
   "source": [
    "data.sample(5)"
   ]
  },
  {
   "cell_type": "code",
   "execution_count": 14,
   "id": "c7b041c8-284c-44d4-8411-af68f4b3e686",
   "metadata": {},
   "outputs": [
    {
     "data": {
      "text/plain": [
       "LoanNr_ChkDgt        899164\n",
       "Name                 779583\n",
       "City                  32581\n",
       "State                    51\n",
       "Zip                   33611\n",
       "Bank                   5802\n",
       "BankState                56\n",
       "NAICS                  1312\n",
       "ApprovalDate           9859\n",
       "ApprovalFY               52\n",
       "Term                    412\n",
       "NoEmp                   599\n",
       "NewExist                  3\n",
       "CreateJob               246\n",
       "RetainedJob             358\n",
       "FranchiseCode          2768\n",
       "UrbanRural                3\n",
       "RevLineCr                18\n",
       "LowDoc                    8\n",
       "ChgOffDate             6448\n",
       "DisbursementDate       8472\n",
       "DisbursementGross    118859\n",
       "BalanceGross             15\n",
       "MIS_Status                2\n",
       "ChgOffPrinGr          83165\n",
       "GrAppv                22128\n",
       "SBA_Appv              38326\n",
       "dtype: int64"
      ]
     },
     "execution_count": 14,
     "metadata": {},
     "output_type": "execute_result"
    }
   ],
   "source": [
    "data.nunique()"
   ]
  },
  {
   "cell_type": "code",
   "execution_count": 13,
   "id": "5cb732cd-6993-43c8-84a4-2c6b0a2da6e1",
   "metadata": {},
   "outputs": [
    {
     "data": {
      "text/plain": [
       "Index(['LoanNr_ChkDgt', 'Name', 'City', 'State', 'Zip', 'Bank', 'BankState',\n",
       "       'NAICS', 'ApprovalDate', 'ApprovalFY', 'Term', 'NoEmp', 'NewExist',\n",
       "       'CreateJob', 'RetainedJob', 'FranchiseCode', 'UrbanRural', 'RevLineCr',\n",
       "       'LowDoc', 'ChgOffDate', 'DisbursementDate', 'DisbursementGross',\n",
       "       'BalanceGross', 'MIS_Status', 'ChgOffPrinGr', 'GrAppv', 'SBA_Appv'],\n",
       "      dtype='object')"
      ]
     },
     "execution_count": 13,
     "metadata": {},
     "output_type": "execute_result"
    }
   ],
   "source": [
    "data.columns"
   ]
  },
  {
   "cell_type": "code",
   "execution_count": null,
   "id": "0effc09a-7520-4b55-9c69-17981c8713de",
   "metadata": {},
   "outputs": [],
   "source": [
    "# Droping the unnecessary columns\n",
    "data.drop(['LoanNr_ChkDgt','Name','City','Zip','Bank',])"
   ]
  },
  {
   "cell_type": "code",
   "execution_count": 12,
   "id": "c913959d-0855-4df2-9863-32d43877e44b",
   "metadata": {},
   "outputs": [
    {
     "data": {
      "text/plain": [
       "0         1000014003\n",
       "1         1000024006\n",
       "2         1000034009\n",
       "3         1000044001\n",
       "4         1000054004\n",
       "             ...    \n",
       "899159    9995573004\n",
       "899160    9995603000\n",
       "899161    9995613003\n",
       "899162    9995973006\n",
       "899163    9996003010\n",
       "Name: LoanNr_ChkDgt, Length: 899164, dtype: int64"
      ]
     },
     "execution_count": 12,
     "metadata": {},
     "output_type": "execute_result"
    }
   ],
   "source": [
    "data.LoanNr_ChkDgt"
   ]
  },
  {
   "cell_type": "code",
   "execution_count": 15,
   "id": "c5341c72-607d-426e-ab4d-a1ff775f1995",
   "metadata": {},
   "outputs": [
    {
     "data": {
      "text/plain": [
       "0.5"
      ]
     },
     "execution_count": 15,
     "metadata": {},
     "output_type": "execute_result"
    }
   ],
   "source": [
    "np.std([True,False])"
   ]
  },
  {
   "cell_type": "code",
   "execution_count": 18,
   "id": "ecd2f69b-8dbb-4a03-84ea-1ce5d7295c88",
   "metadata": {},
   "outputs": [
    {
     "data": {
      "text/plain": [
       "4"
      ]
     },
     "execution_count": 18,
     "metadata": {},
     "output_type": "execute_result"
    }
   ],
   "source": [
    "ls = np.array([2,3,5,8,9,6,7])\n",
    "ls.argmax()"
   ]
  },
  {
   "cell_type": "code",
   "execution_count": null,
   "id": "70e47589-db0a-485c-b42f-2b586e7bdcdf",
   "metadata": {},
   "outputs": [],
   "source": [
    "data"
   ]
  },
  {
   "cell_type": "code",
   "execution_count": null,
   "id": "c00b5cde-f105-4f11-97e3-bc8a8327ffb4",
   "metadata": {},
   "outputs": [],
   "source": []
  }
 ],
 "metadata": {
  "kernelspec": {
   "display_name": "Python 3 (ipykernel)",
   "language": "python",
   "name": "python3"
  },
  "language_info": {
   "codemirror_mode": {
    "name": "ipython",
    "version": 3
   },
   "file_extension": ".py",
   "mimetype": "text/x-python",
   "name": "python",
   "nbconvert_exporter": "python",
   "pygments_lexer": "ipython3",
   "version": "3.9.7"
  }
 },
 "nbformat": 4,
 "nbformat_minor": 5
}
